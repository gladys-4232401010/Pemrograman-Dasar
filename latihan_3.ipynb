{
  "nbformat": 4,
  "nbformat_minor": 0,
  "metadata": {
    "colab": {
      "provenance": [],
      "authorship_tag": "ABX9TyO9PIyJPOqEfacL4g8OQnt8",
      "include_colab_link": true
    },
    "kernelspec": {
      "name": "python3",
      "display_name": "Python 3"
    },
    "language_info": {
      "name": "python"
    }
  },
  "cells": [
    {
      "cell_type": "markdown",
      "metadata": {
        "id": "view-in-github",
        "colab_type": "text"
      },
      "source": [
        "<a href=\"https://colab.research.google.com/github/gladys-4232401010/Pemrograman-Dasar/blob/main/latihan_3.ipynb\" target=\"_parent\"><img src=\"https://colab.research.google.com/assets/colab-badge.svg\" alt=\"Open In Colab\"/></a>"
      ]
    },
    {
      "cell_type": "code",
      "execution_count": null,
      "metadata": {
        "colab": {
          "base_uri": "https://localhost:8080/"
        },
        "id": "IZWfcMJMGuGB",
        "outputId": "2dc880f1-aa2d-4634-8835-e97851ee9d9d"
      },
      "outputs": [
        {
          "output_type": "stream",
          "name": "stdout",
          "text": [
            "masukan tahun: 2030\n",
            "apakah tahun kabisat? False\n"
          ]
        }
      ],
      "source": [
        "tahun = int(input(\"masukan tahun: \"))\n",
        "kabisat =(tahun % 4 == 0 and  tahun % 100 != 0) or (tahun % 400 ==0)\n",
        "\n",
        "print(\"apakah tahun kabisat?\", kabisat)"
      ]
    }
  ]
}