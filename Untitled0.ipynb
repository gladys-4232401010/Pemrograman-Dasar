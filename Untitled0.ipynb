{
  "nbformat": 4,
  "nbformat_minor": 0,
  "metadata": {
    "colab": {
      "provenance": [],
      "authorship_tag": "ABX9TyP2BvRm0MNomk0/zWrlPJWF",
      "include_colab_link": true
    },
    "kernelspec": {
      "name": "python3",
      "display_name": "Python 3"
    },
    "language_info": {
      "name": "python"
    }
  },
  "cells": [
    {
      "cell_type": "markdown",
      "metadata": {
        "id": "view-in-github",
        "colab_type": "text"
      },
      "source": [
        "<a href=\"https://colab.research.google.com/github/gladys-4232401010/Pemrograman-Dasar/blob/main/Untitled0.ipynb\" target=\"_parent\"><img src=\"https://colab.research.google.com/assets/colab-badge.svg\" alt=\"Open In Colab\"/></a>"
      ]
    },
    {
      "cell_type": "code",
      "execution_count": 4,
      "metadata": {
        "colab": {
          "base_uri": "https://localhost:8080/"
        },
        "id": "8Tom2qFyhwQU",
        "outputId": "98d42228-98a7-4b18-de65-18fff960ea23"
      },
      "outputs": [
        {
          "output_type": "stream",
          "name": "stdout",
          "text": [
            "Gladys\n",
            "19\n",
            "RPE\n",
            "3\n",
            "Pemrograman Dasar\n",
            "False\n"
          ]
        }
      ],
      "source": [
        "# Biodata Saya\n",
        "\n",
        "nama = \"Gladys\"\n",
        "umur = 19\n",
        "jurusan = \"RPE\"\n",
        "semester = 3\n",
        "matakuliah = 'Pemrograman Dasar'\n",
        "status_lulus = False\n",
        "\n",
        "\n",
        "print (nama)\n",
        "print (umur)\n",
        "print (jurusan)\n",
        "print (semester)\n",
        "print (matakuliah)\n",
        "print (status_lulus)"
      ]
    }
  ]
}