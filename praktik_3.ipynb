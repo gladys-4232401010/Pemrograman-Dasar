{
  "nbformat": 4,
  "nbformat_minor": 0,
  "metadata": {
    "colab": {
      "provenance": [],
      "authorship_tag": "ABX9TyOMymsFHKpV3DWw5fcZQF0x",
      "include_colab_link": true
    },
    "kernelspec": {
      "name": "python3",
      "display_name": "Python 3"
    },
    "language_info": {
      "name": "python"
    }
  },
  "cells": [
    {
      "cell_type": "markdown",
      "metadata": {
        "id": "view-in-github",
        "colab_type": "text"
      },
      "source": [
        "<a href=\"https://colab.research.google.com/github/gladys-4232401010/Pemrograman-Dasar/blob/main/praktik_3.ipynb\" target=\"_parent\"><img src=\"https://colab.research.google.com/assets/colab-badge.svg\" alt=\"Open In Colab\"/></a>"
      ]
    },
    {
      "cell_type": "code",
      "execution_count": null,
      "metadata": {
        "colab": {
          "base_uri": "https://localhost:8080/"
        },
        "id": "ZqY9XUm4fJ6U",
        "outputId": "1447cfca-a94d-4a3d-8abe-bb773fd655ee"
      },
      "outputs": [
        {
          "name": "stdout",
          "output_type": "stream",
          "text": [
            "Berapa porsi makan yang anda beli? : 1\n",
            "siapa nama pelanggan ? : gladys\n"
          ]
        }
      ],
      "source": [
        "# input-output\n",
        "\n",
        "total = float(input(\"Berapa porsi makan yang anda beli? : \"))\n",
        "nama = str(input(\"siapa nama pelanggan ? : \"))"
      ]
    },
    {
      "cell_type": "code",
      "source": [
        "# input-output\n",
        "\n",
        "food = \"telor gulung\"\n",
        "jumlah = 3\n",
        "harga = 1\n",
        "porsi = 8\n",
        "buka_pukul = 3\n",
        "\n",
        "print(\"gladys sedang memesan %s\" % food)\n",
        "print(\"jumlah telor gulung yang di beli %d porsi\" % jumlah)\n",
        "print(\"harga 2 telor gulung yaitu %.3f\" % harga)\n",
        "print(\"satu porsi berisi %o pcs\" % porsi)\n",
        "print(\"warung buka di jam  %x sore\" % buka_pukul)\n"
      ],
      "metadata": {
        "colab": {
          "base_uri": "https://localhost:8080/"
        },
        "id": "gR9lLBOqhfUP",
        "outputId": "21d8d575-6aa5-4433-d3c2-bba83e14367d"
      },
      "execution_count": null,
      "outputs": [
        {
          "output_type": "stream",
          "name": "stdout",
          "text": [
            "gladys sedang memesan telor gulung\n",
            "jumlah telor gulung yang di beli 3 porsi\n",
            "harga 2 telor gulung yaitu 1.000\n",
            "satu porsi berisi 10 pcs\n",
            "warung buka di jam  3 sore\n"
          ]
        }
      ]
    },
    {
      "cell_type": "code",
      "source": [
        "# Ekspresi\n",
        "# kovensi waktu\n",
        "\n",
        "total_detik = int(input(\"total detik\"))\n",
        "jam = total_detik// 3600\n",
        "sisa_detik = total_detik % 3600\n",
        "menit = sisa_detik // 6\n",
        "detik = sisa_detik % 60\n",
        "print(f\"Hasil konvensi:{jam} jam, {menit} menit, {detik} detik\")"
      ],
      "metadata": {
        "colab": {
          "base_uri": "https://localhost:8080/"
        },
        "id": "0yDYYWhZmVRI",
        "outputId": "7bd71805-f932-41ea-ca03-6d1bfe4080d4"
      },
      "execution_count": null,
      "outputs": [
        {
          "output_type": "stream",
          "name": "stdout",
          "text": [
            "total detik358200\n",
            "Hasil konvensi:99 jam, 300 menit, 0 detik\n"
          ]
        }
      ]
    },
    {
      "cell_type": "code",
      "source": [
        "# kalkulator kasir\n",
        "\n",
        "harga_makan = int(input(\"berapa harga nasi goreng per porsi?\" ))\n",
        "jumlah_makan = int(input(\"berapa porsi yang anda beli?\" ))\n",
        "total_makan = harga_makan * jumlah_makan\n",
        "\n",
        "print(f\"harga makan per porsi ={harga_makan}, totalnya adalah {total_makan}\")"
      ],
      "metadata": {
        "colab": {
          "base_uri": "https://localhost:8080/"
        },
        "id": "QBlDqJ3qNybC",
        "outputId": "ebd0c16e-2285-4dd2-9c0a-ed70aab7916a"
      },
      "execution_count": null,
      "outputs": [
        {
          "output_type": "stream",
          "name": "stdout",
          "text": [
            "berapa harga nasi goreng per porsi?15000\n",
            "berapa porsi yang anda beli?3\n",
            "harga makan per porsi =15000, totalnya adalah 45000\n"
          ]
        }
      ]
    },
    {
      "cell_type": "code",
      "source": [
        "#nilai mahasiswa\n",
        "kimia_dasar = int(input(\"kimia dasar : \"))\n",
        "perpindahan_panas = int(input(\"perpindahan panas : \"))\n",
        "ppkn = int(input(\"ppkn : \"))\n",
        "plc = int(input(\"plc : \"))\n",
        "daspro = int(input(\"daspro : \"))\n",
        "nilai_mahasiswa = (kimia_dasar + perpindahan_panas + ppkn) / 5\n",
        "standar_kelulusan = int(input(\"standar_kelulusan :\"))\n",
        "apakah_lulus = (nilai_mahasiswa >=standar_kelulusan)\n",
        "perlu_remedial = (nilai_mahasiswa < standar_kelulusan)\n",
        "\n",
        "print(f\"nilai mahasiswa: {nilai_mahasiswa}\")\n",
        "print(f\"standar kelulusan : {standar_kelulusan}\")\n",
        "print(f\"apakah lulus :{apakah_lulus}\")\n",
        "print(f\"perlu remedial : {perlu_remedial}\")"
      ],
      "metadata": {
        "colab": {
          "base_uri": "https://localhost:8080/"
        },
        "id": "0OzQAxulyc3a",
        "outputId": "aad8d278-3807-4e21-b830-95b92be2240e"
      },
      "execution_count": null,
      "outputs": [
        {
          "output_type": "stream",
          "name": "stdout",
          "text": [
            "kimia dasar : 90\n",
            "perpindahan panas : 90\n",
            "ppkn : 90\n",
            "plc : 90\n",
            "daspro : 90\n",
            "standar_kelulusan :50\n",
            "nilai mahasiswa: 54.0\n",
            "standar kelulusan : 50\n",
            "apakah lulus :True\n",
            "perlu remedial : False\n"
          ]
        }
      ]
    },
    {
      "cell_type": "code",
      "source": [
        "# input-output\n",
        "#kalkulator sederhana\n",
        "\n",
        "mie_goreng = 10000\n",
        "mie_rebus = 12000\n",
        "\n",
        "print(\"harga mie goreng dan mie rebus:\", mie_goreng + mie_rebus)\n",
        "print(\"selisih harga mie goreng dan mie rebus:\", mie_goreng - mie_rebus)\n",
        "print(\"perkalian:\", mie_goreng * mie_rebus)\n",
        "print(\"pembagian:\", mie_goreng / mie_rebus)"
      ],
      "metadata": {
        "colab": {
          "base_uri": "https://localhost:8080/"
        },
        "id": "Og_9F4QxtmDR",
        "outputId": "cf76f783-bcd7-42a5-8bec-03de0de37825"
      },
      "execution_count": null,
      "outputs": [
        {
          "output_type": "stream",
          "name": "stdout",
          "text": [
            "harga mie goreng dan mie rebus: 22000\n",
            "selisih harga mie goreng dan mie rebus: -2000\n",
            "perkalian: 120000000\n",
            "pembagian: 0.8333333333333334\n"
          ]
        }
      ]
    },
    {
      "cell_type": "code",
      "source": [
        "# Belanja\n",
        "belanja_baju = 150000\n",
        "diskon = (0, 0.35 * belanja_baju)[belanja_baju > 50000]\n",
        "total_harga = belanja_baju - diskon\n",
        "print(\"total harga setelah diskon =\", total_harga)"
      ],
      "metadata": {
        "colab": {
          "base_uri": "https://localhost:8080/"
        },
        "id": "mNbfTFCZ5x9l",
        "outputId": "4c64332e-6ba9-4ee6-c274-808e0862dbf3"
      },
      "execution_count": null,
      "outputs": [
        {
          "output_type": "stream",
          "name": "stdout",
          "text": [
            "total harga setelah diskon = 97500.0\n"
          ]
        }
      ]
    },
    {
      "cell_type": "code",
      "source": [
        "#mengecek bilangan\n",
        "\n",
        "bilangan = 8\n",
        "hasil = (bilangan > 0) and (bilangan % 2 == 0)\n",
        "\n",
        "print(\"genap dan positf?\", hasil)"
      ],
      "metadata": {
        "id": "aFnz470nxa-q",
        "colab": {
          "base_uri": "https://localhost:8080/"
        },
        "outputId": "6a3847bc-2c80-47a5-8cb4-31bd1883c8e8"
      },
      "execution_count": null,
      "outputs": [
        {
          "output_type": "stream",
          "name": "stdout",
          "text": [
            "genap dan positf? True\n"
          ]
        }
      ]
    }
  ]
}