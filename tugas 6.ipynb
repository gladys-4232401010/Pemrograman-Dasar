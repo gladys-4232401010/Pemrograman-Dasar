{
  "nbformat": 4,
  "nbformat_minor": 0,
  "metadata": {
    "colab": {
      "provenance": [],
      "authorship_tag": "ABX9TyOaimFK+JZTKItIGs45HnU5",
      "include_colab_link": true
    },
    "kernelspec": {
      "name": "python3",
      "display_name": "Python 3"
    },
    "language_info": {
      "name": "python"
    }
  },
  "cells": [
    {
      "cell_type": "markdown",
      "metadata": {
        "id": "view-in-github",
        "colab_type": "text"
      },
      "source": [
        "<a href=\"https://colab.research.google.com/github/gladys-4232401010/Pemrograman-Dasar/blob/main/tugas%206.ipynb\" target=\"_parent\"><img src=\"https://colab.research.google.com/assets/colab-badge.svg\" alt=\"Open In Colab\"/></a>"
      ]
    },
    {
      "cell_type": "code",
      "source": [
        "def analisis_mahasiswa():\n",
        "    data_mahasiswa = {\"gita\": [80, 75, 90], \"alie\": [60, 65, 70], \"nana\": [55, 50, 60], \"naila\": [90, 85, 95]}\n",
        "\n",
        "    lulus = set()\n",
        "    tidak_lulus = set()\n",
        "\n",
        "    for nama, nilai in data_mahasiswa.items():\n",
        "        rata2 = sum(nilai) / len(nilai)\n",
        "\n",
        "        if rata2 >= 80:\n",
        "            status = \"Lulus dengan Predikat A\"\n",
        "            lulus.add(nama)\n",
        "        elif rata2 >= 60:\n",
        "            status = \"Lulus dengan Predikat B\"\n",
        "            lulus.add(nama)\n",
        "        else:\n",
        "            status = \"Tidak Lulus\"\n",
        "            tidak_lulus.add(nama)\n",
        "\n",
        "        print(f\"{nama} - Rata-rata: {rata2:.2f} - {status}\")\n",
        "\n",
        "    jumlah = 0\n",
        "    while jumlah < len(data_mahasiswa):\n",
        "        jumlah += 1\n",
        "    print(f\"Jumlah mahasiswa: {jumlah}\")\n",
        "\n",
        "    info = (\"Total Mahasiswa\", jumlah, \"Mahasiswa Lulus\", len(lulus))\n",
        "    print(\"Info:\", info)\n",
        "\n",
        "    semua_lulus = len(tidak_lulus) == 0\n",
        "    if semua_lulus:\n",
        "        print(\"Semua mahasiswa lulus!\")\n",
        "    else:\n",
        "        print(\"Ada mahasiswa yang belum lulus:\", tidak_lulus)\n",
        "\n",
        "    hasil = {\"Jumlah Mahasiswa\": jumlah, \"Mahasiswa Lulus\": lulus, \"Mahasiswa Tidak Lulus\": tidak_lulus, \"Semua Lulus\": semua_lulus}\n",
        "    return hasil\n",
        "\n",
        "hasil_akhir = analisis_mahasiswa()\n",
        "\n",
        "print(\"Hasil Akhir Analisis:\")\n",
        "print(hasil_akhir)\n"
      ],
      "metadata": {
        "colab": {
          "base_uri": "https://localhost:8080/"
        },
        "id": "3YACZAGTAzbe",
        "outputId": "c53bb986-72c5-4550-d318-7267be6fa16a"
      },
      "execution_count": 11,
      "outputs": [
        {
          "output_type": "stream",
          "name": "stdout",
          "text": [
            "gita - Rata-rata: 81.67 - Lulus dengan Predikat A\n",
            "alie - Rata-rata: 65.00 - Lulus dengan Predikat B\n",
            "nana - Rata-rata: 55.00 - Tidak Lulus\n",
            "naila - Rata-rata: 90.00 - Lulus dengan Predikat A\n",
            "Jumlah mahasiswa: 4\n",
            "Info: ('Total Mahasiswa', 4, 'Mahasiswa Lulus', 3)\n",
            "Ada mahasiswa yang belum lulus: {'nana'}\n",
            "Hasil Akhir Analisis:\n",
            "{'Jumlah Mahasiswa': 4, 'Mahasiswa Lulus': {'alie', 'gita', 'naila'}, 'Mahasiswa Tidak Lulus': {'nana'}, 'Semua Lulus': False}\n"
          ]
        }
      ]
    }
  ]
}