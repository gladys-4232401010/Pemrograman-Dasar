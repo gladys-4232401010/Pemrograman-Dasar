{
  "nbformat": 4,
  "nbformat_minor": 0,
  "metadata": {
    "colab": {
      "provenance": [],
      "authorship_tag": "ABX9TyOwgSgD+ndRBIx3MRXifcCd",
      "include_colab_link": true
    },
    "kernelspec": {
      "name": "python3",
      "display_name": "Python 3"
    },
    "language_info": {
      "name": "python"
    }
  },
  "cells": [
    {
      "cell_type": "markdown",
      "metadata": {
        "id": "view-in-github",
        "colab_type": "text"
      },
      "source": [
        "<a href=\"https://colab.research.google.com/github/gladys-4232401010/Pemrograman-Dasar/blob/main/latihan.ipynb\" target=\"_parent\"><img src=\"https://colab.research.google.com/assets/colab-badge.svg\" alt=\"Open In Colab\"/></a>"
      ]
    },
    {
      "cell_type": "code",
      "execution_count": null,
      "metadata": {
        "colab": {
          "base_uri": "https://localhost:8080/"
        },
        "id": "-klPuoYFeLgA",
        "outputId": "d325e786-47a7-40fa-c7ca-df7b3e09348a"
      },
      "outputs": [
        {
          "output_type": "stream",
          "name": "stdout",
          "text": [
            "masukkan sebuah angka: 15\n",
            "kelipatan 5\n"
          ]
        }
      ],
      "source": [
        "# 1. kelipatan 5\n",
        "angka = int(input(\"masukkan sebuah angka: \"))\n",
        "if angka % 5 == 0:\n",
        "  print(\"kelipatan 5\")\n",
        "else:\n",
        "  print(\"bukan kelipatan 5\")"
      ]
    },
    {
      "cell_type": "code",
      "source": [
        "# 2. menentukan tahun kabisat\n",
        "tahun = int(input(\"masukkan tahun: \"))\n",
        "\n",
        "if tahun % 400 == 0:\n",
        "  print(\"tahun kabisat\")\n",
        "elif tahun % 4 == 0 and tahun % 100 != 0:\n",
        "  print(\"tahun kabisat\")\n",
        "else:\n",
        "  print(\"bukan tahun kabisat\")"
      ],
      "metadata": {
        "colab": {
          "base_uri": "https://localhost:8080/"
        },
        "id": "lJN_ELnWiYgu",
        "outputId": "e12d6100-ede8-454f-c731-390fccbd6b7f"
      },
      "execution_count": null,
      "outputs": [
        {
          "output_type": "stream",
          "name": "stdout",
          "text": [
            "masukkan tahun: 2005\n",
            "bukan tahun kabisat\n"
          ]
        }
      ]
    },
    {
      "cell_type": "code",
      "source": [
        "# 3. menentukan jenis bilangan\n",
        "angka =int(input(\"masukkan sebuah bilangan: \"))\n",
        "\n",
        "if angka > 10:\n",
        "  print(\"bilangan positif\")\n",
        "elif angka < 10:\n",
        "  print(\"bilangan negatif\")\n",
        "else:\n",
        "  print(\"bilangan nol\")"
      ],
      "metadata": {
        "colab": {
          "base_uri": "https://localhost:8080/"
        },
        "id": "G3dsLa5lxh1z",
        "outputId": "e6251a6c-aa1e-4359-e2d2-78d1550e44d1"
      },
      "execution_count": null,
      "outputs": [
        {
          "output_type": "stream",
          "name": "stdout",
          "text": [
            "masukkan sebuah bilangan: 11\n",
            "bilangan positif\n"
          ]
        }
      ]
    },
    {
      "cell_type": "code",
      "source": [
        "# 4. menampilkan nama bulan berdasarkan angka\n",
        "bulan = int(input(\"masukkan angka bulan (1-12): \"))\n",
        "\n",
        "if bulan == 1:\n",
        "  print(\"januari\")\n",
        "elif bulan == 2:\n",
        "  print(\"februari\")\n",
        "elif bulan == 3:\n",
        "  print(\"maret\")\n",
        "elif bulan == 4:\n",
        "  print(\"april\")\n",
        "elif bulan == 5:\n",
        "  print(\"mei\")\n",
        "elif bulan == 6:\n",
        "  print(\"juni\")\n",
        "elif bulan == 7:\n",
        "  print(\"juli\")\n",
        "elif bulan == 8:\n",
        "  print(\"agustus\")\n",
        "elif bulan == 9:\n",
        "  print(\"september\")\n",
        "elif bulan == 10:\n",
        "  print(\"oktober\")\n",
        "elif bulan == 11:\n",
        "  print(\"november\")\n",
        "elif bulan == 12:\n",
        "  print(\"desember\")\n",
        "else:\n",
        "  print(\"input salah! bulan hanya 1-12. \")"
      ],
      "metadata": {
        "colab": {
          "base_uri": "https://localhost:8080/"
        },
        "id": "ZTDvx2VEzN11",
        "outputId": "1b3bf289-8f87-402f-d2fd-3ecc5d73ed45"
      },
      "execution_count": null,
      "outputs": [
        {
          "output_type": "stream",
          "name": "stdout",
          "text": [
            "masukkan angka bulan (1-12): 11\n",
            "november\n"
          ]
        }
      ]
    },
    {
      "cell_type": "code",
      "source": [
        "# 5. salam berdasarkan jam\n",
        "jam = int(input(\"masukkan jam (0-23): \"))\n",
        "\n",
        "if 0 <= jam <= 11:\n",
        "  print(\"selamat pagi\")\n",
        "elif 12 <= jam <= 15:\n",
        "  print(\"selamat siang\")\n",
        "elif 16 <= jam <= 18:\n",
        "  print(\"selamat sore\")\n",
        "elif 19 <= jam <= 23:\n",
        "  print(\"selamat malam\")\n",
        "else:\n",
        "  print(\"input salah! jam hanya 0-23.\")"
      ],
      "metadata": {
        "colab": {
          "base_uri": "https://localhost:8080/"
        },
        "id": "PZcTshQC3-fU",
        "outputId": "c19c6859-11eb-4eb9-b755-0e3454a63815"
      },
      "execution_count": null,
      "outputs": [
        {
          "output_type": "stream",
          "name": "stdout",
          "text": [
            "masukkan jam (0-23): 6\n",
            "selamat pagi\n"
          ]
        }
      ]
    }
  ]
}