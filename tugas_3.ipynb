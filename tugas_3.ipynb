{
  "nbformat": 4,
  "nbformat_minor": 0,
  "metadata": {
    "colab": {
      "provenance": [],
      "authorship_tag": "ABX9TyMRH1C+2lt0t0LYDdRqWiWT",
      "include_colab_link": true
    },
    "kernelspec": {
      "name": "python3",
      "display_name": "Python 3"
    },
    "language_info": {
      "name": "python"
    }
  },
  "cells": [
    {
      "cell_type": "markdown",
      "metadata": {
        "id": "view-in-github",
        "colab_type": "text"
      },
      "source": [
        "<a href=\"https://colab.research.google.com/github/gladys-4232401010/Pemrograman-Dasar/blob/main/tugas_3.ipynb\" target=\"_parent\"><img src=\"https://colab.research.google.com/assets/colab-badge.svg\" alt=\"Open In Colab\"/></a>"
      ]
    },
    {
      "cell_type": "code",
      "source": [
        "#input data\n",
        "harga_item = [25000, 30000, 50000]\n",
        "member = True\n",
        "\n",
        "subtotal = sum(harga_item)\n",
        "syarat_diskon = member and subtotal > 100000\n",
        "diskon = 0.15 * subtotal * syarat_diskon\n",
        "harga_setelah_diskon = subtotal - diskon\n",
        "ppn = 0.11 * harga_setelah_diskon\n",
        "total_akhir = harga_setelah_diskon + ppn\n",
        "\n",
        "print(\"subtotal :\", subtotal)\n",
        "print(\"diskon :\", diskon)\n",
        "print(\"harga setelah diskon :\", harga_setelah_diskon)\n",
        "print(\"ppn(11%) :\", ppn)\n",
        "print(\"total akhir:\", total_akhir)"
      ],
      "metadata": {
        "colab": {
          "base_uri": "https://localhost:8080/"
        },
        "id": "sZHq-fhE_yZ1",
        "outputId": "28857f8a-7eeb-4733-c373-02ef9867ae15"
      },
      "execution_count": null,
      "outputs": [
        {
          "output_type": "stream",
          "name": "stdout",
          "text": [
            "subtotal : 105000\n",
            "diskon : 15750.0\n",
            "harga setelah diskon : 89250.0\n",
            "ppn(11%) : 9817.5\n",
            "total akhir: 99067.5\n"
          ]
        }
      ]
    }
  ]
}