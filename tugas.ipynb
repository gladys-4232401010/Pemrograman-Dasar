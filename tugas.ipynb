{
  "nbformat": 4,
  "nbformat_minor": 0,
  "metadata": {
    "colab": {
      "provenance": [],
      "authorship_tag": "ABX9TyNTcIknUlnlgtM+pKqKwKoe",
      "include_colab_link": true
    },
    "kernelspec": {
      "name": "python3",
      "display_name": "Python 3"
    },
    "language_info": {
      "name": "python"
    }
  },
  "cells": [
    {
      "cell_type": "markdown",
      "metadata": {
        "id": "view-in-github",
        "colab_type": "text"
      },
      "source": [
        "<a href=\"https://colab.research.google.com/github/gladys-4232401010/Pemrograman-Dasar/blob/main/tugas.ipynb\" target=\"_parent\"><img src=\"https://colab.research.google.com/assets/colab-badge.svg\" alt=\"Open In Colab\"/></a>"
      ]
    },
    {
      "cell_type": "code",
      "execution_count": null,
      "metadata": {
        "colab": {
          "base_uri": "https://localhost:8080/"
        },
        "id": "lPWiHwLfDaGH",
        "outputId": "152188a4-b12d-4bfe-f9e4-af3e874f0a81"
      },
      "outputs": [
        {
          "output_type": "stream",
          "name": "stdout",
          "text": [
            "==============================\n",
            "SELAMAT DATANG DI KOPITIAM\n",
            "==============================\n",
            "menu makanan dan minuman: \n",
            "1. kopi susu - Rp 10.000\n",
            "2. teh tarik - Rp 12.000\n",
            "3. nasi goreng - Rp 15.000\n",
            "4. mie ayam bakso - Rp 20.000\n",
            "5. martabak mesir - Rp 25.000\n",
            "==============================\n",
            "silahkan masukkan nomor pilihan anda (1-5): 3\n",
            "Anda memesan: nasi goreng dengan harga Rp 15000\n",
            "Total yang harus dibayar: Rp (harga). Masukkan jumlah uang Anda: Rp 60000\n",
            "\n",
            "=== Struk Pembayaran ===\n",
            "Pesanan: nasi goreng\n",
            "Harga: Rp 15000\n",
            "Diskon: Rp 4500\n",
            "Total Bayar setelah Diskon: Rp 10500\n",
            "Uang Dibayar: Rp 60000\n",
            "Kembalian: Rp 49500\n",
            "Terima kasih telah berbelanja!\n"
          ]
        }
      ],
      "source": [
        "# tugas\n",
        "print(\"=\"*30)\n",
        "print(\"SELAMAT DATANG DI KOPITIAM\")\n",
        "print(\"=\"*30)\n",
        "print(\"menu makanan dan minuman: \")\n",
        "print(\"1. kopi susu - Rp 10.000\")\n",
        "print(\"2. teh tarik - Rp 12.000\")\n",
        "print(\"3. nasi goreng - Rp 15.000\")\n",
        "print(\"4. mie ayam bakso - Rp 20.000\")\n",
        "print(\"5. martabak mesir - Rp 25.000\")\n",
        "print(\"=\"*30)\n",
        "\n",
        "pilihan_str: str = input(\"silahkan masukkan nomor pilihan anda (1-5): \")\n",
        "pilihan: int = int(pilihan_str)\n",
        "nama_pesanan: str = \"\"\n",
        "harga: int = 0\n",
        "\n",
        "if pilihan == 1:\n",
        "  nama_pesanan = \"kopi susu\"\n",
        "  harga = 10000\n",
        "elif pilihan == 2:\n",
        "  nama_pesanan = \"teh susu\"\n",
        "  harga = 12000\n",
        "elif pilihan == 3:\n",
        "  nama_pesanan = \"nasi goreng\"\n",
        "  harga = 15000\n",
        "elif pilihan == 4:\n",
        "  nama_pesanan = \"mie ayam bakso\"\n",
        "  harga = 20000\n",
        "elif pilihan == 5:\n",
        "  nama_pesanan = \"martabak mesir\"\n",
        "  harga = 25000\n",
        "else:\n",
        "  print(\"maaf, pilihan menu tidak valid. Silakan jalankan ulang program.\")\n",
        "  exit()\n",
        "\n",
        "print(f\"Anda memesan: {nama_pesanan} dengan harga Rp {harga}\")\n",
        "jumlah_str = input(\"Total yang harus dibayar: Rp (harga). Masukkan jumlah uang Anda: Rp \")\n",
        "uang_dibayar = int(jumlah_str)\n",
        "\n",
        "total = harga\n",
        "diskon = 0\n",
        "\n",
        "if total >= 50000:\n",
        "    diskon = 0.7 * total\n",
        "elif total >= 30000:\n",
        "    diskon = 0.5 * total\n",
        "elif total >= 10000:\n",
        "    diskon = 0.3 * total\n",
        "total_setelah_diskon = total - diskon\n",
        "\n",
        "print(\"\\n=== Struk Pembayaran ===\")\n",
        "print(f\"Pesanan: {nama_pesanan}\")\n",
        "print(f\"Harga: Rp {harga}\")\n",
        "print(f\"Diskon: Rp {int(diskon)}\")\n",
        "print(f\"Total Bayar setelah Diskon: Rp {int(total_setelah_diskon)}\")\n",
        "print(f\"Uang Dibayar: Rp {uang_dibayar}\")\n",
        "\n",
        "if uang_dibayar >= total_setelah_diskon:\n",
        "    kembalian = uang_dibayar - total_setelah_diskon\n",
        "    print(f\"Kembalian: Rp {int(kembalian)}\")\n",
        "    print(\"Terima kasih telah berbelanja!\")\n",
        "else:\n",
        "    kekurangan = total_setelah_diskon - uang_dibayar\n",
        "    print(f\"Maaf, uang Anda kurang sebesar Rp {int(kekurangan)}\")"
      ]
    }
  ]
}